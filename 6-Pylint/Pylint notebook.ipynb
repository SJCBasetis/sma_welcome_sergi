{
 "cells": [
  {
   "cell_type": "markdown",
   "metadata": {},
   "source": [
    "# Pylint notebook  \n",
    "\n",
    "Pylint is a source code, bug and quality checker for Python. It follows the style recommended by PEP 8, the Python style guide. Whenever you want to check or you are not sure if the style of your code is correct, [here](https://www.python.org/dev/peps/pep-0008/#class-names) you can find some explications and examples.\n",
    "\n",
    "As you can see, in the \"7.Pylint\" folderthere is a src folder with python scrips in it. Run the command **pylint src** in the path **C:\\PYTHON\\sma_welcome\\7. Pylint**. Pylint returns a list of errors and warnings for each module and rates the quality of your code. To run pylint just for a single module, you only need to move to the module directory and run **pylint modulename.py**.\n",
    "\n",
    "<div class=\"alert alert-success\" role=\"alert\">\n",
    "    **Objective:** Recover errors. \n",
    "</div>\n",
    "\n",
    "Run command **C:\\PYTHON\\sma_welcome\\7. Pylint>pylint src/ulog.py** and open the *ulog.py* script.\n",
    "\n",
    "<div class=\"alert alert-info\" role=\"alert\">\n",
    "    **Exercise:** Make changes in *ulog.py* script to get a 10/10 score.\n",
    "</div>\n",
    "\n",
    "There are some frequent warnings you must get used to know about.\n",
    "\n",
    "Common warnings:\n",
    "    1. Exactly one space required after comma\n",
    "    2. Bad indentation (found 9 spaces, expected 8)\n",
    "    3. Trailing whitespace (the line should not finish with whitespace)\n",
    "    4. Final newline missing\n",
    "    5. Missing docstrings (Piece of comment above module or function is missing, use it to describe functions, classes, modules in general)\n",
    "    6. Constat, function or class name does not satisfied needed format\n",
    "    7. Either all return statements in a function should return an expression, or none of them should (what does defined   function or class return? If there is nothing, return None)\n",
    "    8. Maximum line length (line is longer than 100 characters)\n",
    "    \n",
    "<div class=\"alert alert-info\" role=\"alert\">\n",
    "    **Exercise:** Make changes in *upalette.py* and *utime.py* script to get a 10/10 score. \n",
    "</div>"
   ]
  },
  {
   "cell_type": "markdown",
   "metadata": {},
   "source": [
    "<img src= \"Captura.JPG\">"
   ]
  },
  {
   "cell_type": "code",
   "execution_count": null,
   "metadata": {},
   "outputs": [],
   "source": []
  }
 ],
 "metadata": {
  "kernelspec": {
   "display_name": "Python 3",
   "language": "python",
   "name": "python3"
  },
  "language_info": {
   "codemirror_mode": {
    "name": "ipython",
    "version": 3
   },
   "file_extension": ".py",
   "mimetype": "text/x-python",
   "name": "python",
   "nbconvert_exporter": "python",
   "pygments_lexer": "ipython3",
   "version": "3.8.5"
  }
 },
 "nbformat": 4,
 "nbformat_minor": 2
}
