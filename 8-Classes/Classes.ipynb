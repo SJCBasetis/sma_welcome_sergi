{
 "cells": [
  {
   "cell_type": "markdown",
   "metadata": {},
   "source": [
    "# Classes"
   ]
  },
  {
   "cell_type": "code",
   "execution_count": 1,
   "metadata": {},
   "outputs": [],
   "source": [
    "class TrafficLights:\n",
    "    state = \"red\""
   ]
  },
  {
   "cell_type": "code",
   "execution_count": 4,
   "metadata": {},
   "outputs": [
    {
     "data": {
      "text/plain": [
       "'red'"
      ]
     },
     "execution_count": 4,
     "metadata": {},
     "output_type": "execute_result"
    }
   ],
   "source": [
    "my_traffic_lights = TrafficLights()\n",
    "my_traffic_lights.state"
   ]
  },
  {
   "cell_type": "markdown",
   "metadata": {},
   "source": [
    "We can convert variables into private ones by adding a prefix: __foo or _foo"
   ]
  },
  {
   "cell_type": "code",
   "execution_count": 5,
   "metadata": {},
   "outputs": [],
   "source": [
    "class TrafficLights:\n",
    "    __state = \"red\""
   ]
  },
  {
   "cell_type": "code",
   "execution_count": 9,
   "metadata": {},
   "outputs": [
    {
     "ename": "AttributeError",
     "evalue": "'TrafficLights' object has no attribute 'state'",
     "output_type": "error",
     "traceback": [
      "\u001b[1;31m---------------------------------------------------------------------------\u001b[0m",
      "\u001b[1;31mAttributeError\u001b[0m                            Traceback (most recent call last)",
      "\u001b[1;32m<ipython-input-9-23ab217984f5>\u001b[0m in \u001b[0;36m<module>\u001b[1;34m\u001b[0m\n\u001b[0;32m      1\u001b[0m \u001b[0mmy_traffic_lights\u001b[0m \u001b[1;33m=\u001b[0m \u001b[0mTrafficLights\u001b[0m\u001b[1;33m(\u001b[0m\u001b[1;33m)\u001b[0m\u001b[1;33m\u001b[0m\u001b[1;33m\u001b[0m\u001b[0m\n\u001b[1;32m----> 2\u001b[1;33m \u001b[0mmy_traffic_lights\u001b[0m\u001b[1;33m.\u001b[0m\u001b[0mstate\u001b[0m\u001b[1;33m\u001b[0m\u001b[1;33m\u001b[0m\u001b[0m\n\u001b[0m",
      "\u001b[1;31mAttributeError\u001b[0m: 'TrafficLights' object has no attribute 'state'"
     ]
    }
   ],
   "source": [
    "my_traffic_lights = TrafficLights()\n",
    "my_traffic_lights.__state"
   ]
  },
  {
   "cell_type": "markdown",
   "metadata": {},
   "source": [
    "We can acces these \"private variables\" declaring a getter:"
   ]
  },
  {
   "cell_type": "code",
   "execution_count": 10,
   "metadata": {},
   "outputs": [],
   "source": [
    "class TrafficLights:\n",
    "    __state = \"red\"\n",
    "    \n",
    "    def get_state(self):\n",
    "        return self.__state"
   ]
  },
  {
   "cell_type": "code",
   "execution_count": 11,
   "metadata": {},
   "outputs": [
    {
     "data": {
      "text/plain": [
       "'red'"
      ]
     },
     "execution_count": 11,
     "metadata": {},
     "output_type": "execute_result"
    }
   ],
   "source": [
    "my_traffic_lights = TrafficLights()\n",
    "my_traffic_lights.get_state()"
   ]
  },
  {
   "cell_type": "markdown",
   "metadata": {},
   "source": [
    "## Function doc"
   ]
  },
  {
   "cell_type": "code",
   "execution_count": 16,
   "metadata": {},
   "outputs": [],
   "source": [
    "class TrafficLights:\n",
    "    \"\"\"This class simulates the behaviour of a traffic light\"\"\"\n",
    "    __state = \"red\"\n",
    "    \n",
    "    def get_state(self):\n",
    "        return self.__state"
   ]
  },
  {
   "cell_type": "code",
   "execution_count": 17,
   "metadata": {},
   "outputs": [
    {
     "data": {
      "text/plain": [
       "'This class simulates the behaviour of a traffic light'"
      ]
     },
     "execution_count": 17,
     "metadata": {},
     "output_type": "execute_result"
    }
   ],
   "source": [
    "my_traffic_lights = TrafficLights()\n",
    "my_traffic_lights.__doc__"
   ]
  },
  {
   "cell_type": "code",
   "execution_count": 27,
   "metadata": {},
   "outputs": [],
   "source": [
    "class Error(Exception):\n",
    "    pass\n",
    "\n",
    "class WrongColor(Error):\n",
    "    \"This is not an accepted color\"\n",
    "    pass\n",
    "\n",
    "\n",
    "class TrafficLights:\n",
    "    \"\"\"This class simulates the behaviour of a traffic light\"\"\"\n",
    "    \n",
    "    def __init__(self, color = \"red\"):\n",
    "        if color in [\"green\", \"yellow\", \"red\"]:\n",
    "            self.__state = color\n",
    "        else:\n",
    "            raise WrongColor\n",
    "    \n",
    "    def get_state(self):\n",
    "        return self.__state"
   ]
  },
  {
   "cell_type": "code",
   "execution_count": 28,
   "metadata": {},
   "outputs": [
    {
     "ename": "WrongColor",
     "evalue": "",
     "output_type": "error",
     "traceback": [
      "\u001b[1;31m---------------------------------------------------------------------------\u001b[0m",
      "\u001b[1;31mWrongColor\u001b[0m                                Traceback (most recent call last)",
      "\u001b[1;32m<ipython-input-28-8ab98a02cc33>\u001b[0m in \u001b[0;36m<module>\u001b[1;34m\u001b[0m\n\u001b[1;32m----> 1\u001b[1;33m \u001b[0mmy_traffic_lights\u001b[0m \u001b[1;33m=\u001b[0m \u001b[0mTrafficLights\u001b[0m\u001b[1;33m(\u001b[0m\u001b[1;34m\"pink\"\u001b[0m\u001b[1;33m)\u001b[0m\u001b[1;33m\u001b[0m\u001b[1;33m\u001b[0m\u001b[0m\n\u001b[0m",
      "\u001b[1;32m<ipython-input-27-8d77f593aa8a>\u001b[0m in \u001b[0;36m__init__\u001b[1;34m(self, color)\u001b[0m\n\u001b[0;32m     14\u001b[0m             \u001b[0mself\u001b[0m\u001b[1;33m.\u001b[0m\u001b[0m__state\u001b[0m \u001b[1;33m=\u001b[0m \u001b[0mcolor\u001b[0m\u001b[1;33m\u001b[0m\u001b[1;33m\u001b[0m\u001b[0m\n\u001b[0;32m     15\u001b[0m         \u001b[1;32melse\u001b[0m\u001b[1;33m:\u001b[0m\u001b[1;33m\u001b[0m\u001b[1;33m\u001b[0m\u001b[0m\n\u001b[1;32m---> 16\u001b[1;33m             \u001b[1;32mraise\u001b[0m \u001b[0mWrongColor\u001b[0m\u001b[1;33m\u001b[0m\u001b[1;33m\u001b[0m\u001b[0m\n\u001b[0m\u001b[0;32m     17\u001b[0m \u001b[1;33m\u001b[0m\u001b[0m\n\u001b[0;32m     18\u001b[0m     \u001b[1;32mdef\u001b[0m \u001b[0mget_state\u001b[0m\u001b[1;33m(\u001b[0m\u001b[0mself\u001b[0m\u001b[1;33m)\u001b[0m\u001b[1;33m:\u001b[0m\u001b[1;33m\u001b[0m\u001b[1;33m\u001b[0m\u001b[0m\n",
      "\u001b[1;31mWrongColor\u001b[0m: "
     ]
    }
   ],
   "source": [
    "my_traffic_lights = TrafficLights(\"pink\")"
   ]
  },
  {
   "cell_type": "code",
   "execution_count": 30,
   "metadata": {},
   "outputs": [
    {
     "data": {
      "text/plain": [
       "'red'"
      ]
     },
     "execution_count": 30,
     "metadata": {},
     "output_type": "execute_result"
    }
   ],
   "source": [
    "my_traffic_lights = TrafficLights()\n",
    "my_traffic_lights.get_state()"
   ]
  },
  {
   "cell_type": "markdown",
   "metadata": {},
   "source": [
    "# Setting variable values"
   ]
  },
  {
   "cell_type": "code",
   "execution_count": 39,
   "metadata": {},
   "outputs": [],
   "source": [
    "class TrafficLights:\n",
    "    \"\"\"This class simulates the behaviour of a traffic light\"\"\"\n",
    "    __POSSIBLE_STATES = [\"green\", \"yellow\", \"red\"]\n",
    "    \n",
    "    def __init__(self, state = \"red\"):\n",
    "        if state in self.__POSSIBLE_STATES:\n",
    "            self.__state = state\n",
    "        else:\n",
    "            raise WrongColor\n",
    "    \n",
    "    def get_state(self):\n",
    "        return self.__state\n",
    "    \n",
    "    def set_state(self, state):\n",
    "        if state in self.__POSSIBLE_STATES:\n",
    "            self.__state = state\n",
    "        else:\n",
    "            raise WrongColor\n",
    "    \n",
    "    def change_state(self):\n",
    "        self.__state = self.__POSSIBLE_STATES[(self.__POSSIBLE_STATES.index(self.__state) +1) % 3]\n",
    "    \n",
    "    "
   ]
  },
  {
   "cell_type": "code",
   "execution_count": 44,
   "metadata": {},
   "outputs": [
    {
     "name": "stdout",
     "output_type": "stream",
     "text": [
      "red\n",
      "green\n",
      "yellow\n",
      "red\n"
     ]
    }
   ],
   "source": [
    "my_traffic_lights = TrafficLights()\n",
    "print(my_traffic_lights.get_state())\n",
    "my_traffic_lights.change_state()\n",
    "print(my_traffic_lights.get_state())\n",
    "my_traffic_lights.change_state()\n",
    "print(my_traffic_lights.get_state())\n",
    "my_traffic_lights.change_state()\n",
    "print(my_traffic_lights.get_state())"
   ]
  },
  {
   "cell_type": "markdown",
   "metadata": {},
   "source": [
    "### 6.Inheritance"
   ]
  },
  {
   "cell_type": "code",
   "execution_count": 64,
   "metadata": {},
   "outputs": [],
   "source": [
    "class CoolTrafficLight(TrafficLights):\n",
    "    def __init__(self, state = \"red\"):\n",
    "        super().__init__(state)\n",
    "        self.__changes = 0\n",
    "    \n",
    "    def get_changes(self):\n",
    "        return self.__changes\n",
    "    \n",
    "    def change_state(self):\n",
    "        super().change_state()\n",
    "        self.__changes += 1\n",
    "        if self.get_changes() > 3:\n",
    "            print(\"This traffic light needs maintenance\")\n",
    "    def do_maintenance(self):\n",
    "        print(\"Maintenance done\")\n",
    "        self.__changes = 0"
   ]
  },
  {
   "cell_type": "code",
   "execution_count": 65,
   "metadata": {},
   "outputs": [
    {
     "name": "stdout",
     "output_type": "stream",
     "text": [
      "State: green Changes: 0\n"
     ]
    }
   ],
   "source": [
    "my_traffic_light = CoolTrafficLight(\"green\")\n",
    "print(\"State: {} Changes: {}\".format(my_traffic_light.get_state(), my_traffic_light.get_changes()))"
   ]
  },
  {
   "cell_type": "code",
   "execution_count": 66,
   "metadata": {},
   "outputs": [
    {
     "name": "stdout",
     "output_type": "stream",
     "text": [
      "This traffic light needs maintenance\n"
     ]
    }
   ],
   "source": [
    "for x in range(4):\n",
    "    my_traffic_light.change_state()"
   ]
  },
  {
   "cell_type": "code",
   "execution_count": 67,
   "metadata": {},
   "outputs": [
    {
     "name": "stdout",
     "output_type": "stream",
     "text": [
      "State: yellow Changes: 4\n"
     ]
    }
   ],
   "source": [
    "print(\"State: {} Changes: {}\".format(my_traffic_light.get_state(), my_traffic_light.get_changes()))"
   ]
  },
  {
   "cell_type": "markdown",
   "metadata": {},
   "source": [
    "**Exercise:** Define a class called Scorer that emulates the scorer of a football match.\n",
    "    \n",
    "It should have:\n",
    "\n",
    "Attributes: local_score, visitor_score\n",
    "Functions: reset_score, get_local_score, get_visitor_score, local_goal, visitor_goal, show_match_result"
   ]
  },
  {
   "cell_type": "code",
   "execution_count": 72,
   "metadata": {},
   "outputs": [],
   "source": [
    "class Scorer:\n",
    "    def __init__(self, local_score, visitor_score):\n",
    "        self.local_score = local_score\n",
    "        self.visitor_score = visitor_score\n",
    "    def reset_score(self):\n",
    "        self.local_score = self.visitor_score = 0\n",
    "    def get_local_score(self):\n",
    "        return self.local_store\n",
    "    def get_visitor_score(self):\n",
    "        return self.visitor_score\n",
    "    def local_goal(self):\n",
    "        self.local_score += 1\n",
    "    def visitor_goal(self):\n",
    "        self.visitor_score += 1\n",
    "    def show_match_result(self):\n",
    "        print(\"Local Team : {} | Visitor Team : {}\".format(self.local_score, self.visitor_score))\n",
    "    "
   ]
  },
  {
   "cell_type": "code",
   "execution_count": 75,
   "metadata": {},
   "outputs": [
    {
     "name": "stdout",
     "output_type": "stream",
     "text": [
      "Local Team : 1 | Visitor Team : 0\n",
      "1\n",
      "Local Team : 0 | Visitor Team : 1\n"
     ]
    }
   ],
   "source": [
    "scorer = Scorer(0,0)\n",
    "scorer.local_goal()\n",
    "scorer.show_match_result()\n",
    "scorer.reset_score()\n",
    "scorer.visitor_goal()\n",
    "print(scorer.get_visitor_score())\n",
    "scorer.show_match_result()"
   ]
  },
  {
   "cell_type": "code",
   "execution_count": null,
   "metadata": {},
   "outputs": [],
   "source": []
  }
 ],
 "metadata": {
  "kernelspec": {
   "display_name": "Python 3",
   "language": "python",
   "name": "python3"
  },
  "language_info": {
   "codemirror_mode": {
    "name": "ipython",
    "version": 3
   },
   "file_extension": ".py",
   "mimetype": "text/x-python",
   "name": "python",
   "nbconvert_exporter": "python",
   "pygments_lexer": "ipython3",
   "version": "3.8.5"
  }
 },
 "nbformat": 4,
 "nbformat_minor": 4
}
